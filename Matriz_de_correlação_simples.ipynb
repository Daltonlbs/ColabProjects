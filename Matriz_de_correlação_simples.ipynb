{
  "nbformat": 4,
  "nbformat_minor": 0,
  "metadata": {
    "colab": {
      "provenance": [],
      "authorship_tag": "ABX9TyOPWHkoavkYye1S59fuf9xy",
      "include_colab_link": true
    },
    "kernelspec": {
      "name": "python3",
      "display_name": "Python 3"
    },
    "language_info": {
      "name": "python"
    }
  },
  "cells": [
    {
      "cell_type": "markdown",
      "metadata": {
        "id": "view-in-github",
        "colab_type": "text"
      },
      "source": [
        "<a href=\"https://colab.research.google.com/github/Daltonlbs/ColabProjects/blob/main/Matriz_de_correla%C3%A7%C3%A3o_simples.ipynb\" target=\"_parent\"><img src=\"https://colab.research.google.com/assets/colab-badge.svg\" alt=\"Open In Colab\"/></a>"
      ]
    },
    {
      "cell_type": "code",
      "execution_count": null,
      "metadata": {
        "id": "xBhQrQ9F5syI"
      },
      "outputs": [],
      "source": [
        "!pip install -U pandas_datareader\n",
        "!pip install investpy\n",
        "\n",
        "!pip install yfinance\n",
        "!pip install fix_yahoo_finance\n",
        "!pip install pandas_datareader --upgrade"
      ]
    },
    {
      "cell_type": "code",
      "source": [
        "import pandas_datareader as pdr\n",
        "import pandas as pd\n",
        "\n",
        "import yfinance as yf\n",
        "#import fix_yahoo_finance as yf\n",
        "yf.pdr_override()   # Corrigir erro: 'Error using pandas-datareader: No data fetched using 'YahooDailyReader'"
      ],
      "metadata": {
        "id": "51BODYlZ6HIX"
      },
      "execution_count": null,
      "outputs": []
    },
    {
      "cell_type": "code",
      "source": [
        "dados = pdr.data.get_data_yahoo('WEGE3.SA', start='2019-01-01')"
      ],
      "metadata": {
        "colab": {
          "base_uri": "https://localhost:8080/"
        },
        "id": "O8D3lzOW6PfQ",
        "outputId": "82cf8480-dd61-4878-d512-cae62eaae545"
      },
      "execution_count": null,
      "outputs": [
        {
          "output_type": "stream",
          "name": "stdout",
          "text": [
            "\r[*********************100%***********************]  1 of 1 completed\n"
          ]
        }
      ]
    },
    {
      "cell_type": "code",
      "source": [
        "dados.tail()"
      ],
      "metadata": {
        "colab": {
          "base_uri": "https://localhost:8080/",
          "height": 238
        },
        "id": "W16FMWKZ6Wuv",
        "outputId": "aa361998-ba7b-46c4-8c2a-83a9cc6a588d"
      },
      "execution_count": null,
      "outputs": [
        {
          "output_type": "execute_result",
          "data": {
            "text/plain": [
              "                 Open       High        Low      Close  Adj Close    Volume\n",
              "Date                                                                       \n",
              "2022-11-11  39.139999  40.320000  38.369999  39.990002  39.990002   9507500\n",
              "2022-11-14  40.000000  41.169998  39.639999  40.660000  40.660000   6076200\n",
              "2022-11-16  40.400002  40.680000  38.320000  38.709999  38.709999  14823500\n",
              "2022-11-17  38.310001  39.759998  37.520000  39.549999  39.549999   8238900\n",
              "2022-11-18  39.560001  40.279999  39.099998  39.279999  39.279999   6672000"
            ],
            "text/html": [
              "\n",
              "  <div id=\"df-32544023-4ec1-4de1-851e-a788ff2b52a3\">\n",
              "    <div class=\"colab-df-container\">\n",
              "      <div>\n",
              "<style scoped>\n",
              "    .dataframe tbody tr th:only-of-type {\n",
              "        vertical-align: middle;\n",
              "    }\n",
              "\n",
              "    .dataframe tbody tr th {\n",
              "        vertical-align: top;\n",
              "    }\n",
              "\n",
              "    .dataframe thead th {\n",
              "        text-align: right;\n",
              "    }\n",
              "</style>\n",
              "<table border=\"1\" class=\"dataframe\">\n",
              "  <thead>\n",
              "    <tr style=\"text-align: right;\">\n",
              "      <th></th>\n",
              "      <th>Open</th>\n",
              "      <th>High</th>\n",
              "      <th>Low</th>\n",
              "      <th>Close</th>\n",
              "      <th>Adj Close</th>\n",
              "      <th>Volume</th>\n",
              "    </tr>\n",
              "    <tr>\n",
              "      <th>Date</th>\n",
              "      <th></th>\n",
              "      <th></th>\n",
              "      <th></th>\n",
              "      <th></th>\n",
              "      <th></th>\n",
              "      <th></th>\n",
              "    </tr>\n",
              "  </thead>\n",
              "  <tbody>\n",
              "    <tr>\n",
              "      <th>2022-11-11</th>\n",
              "      <td>39.139999</td>\n",
              "      <td>40.320000</td>\n",
              "      <td>38.369999</td>\n",
              "      <td>39.990002</td>\n",
              "      <td>39.990002</td>\n",
              "      <td>9507500</td>\n",
              "    </tr>\n",
              "    <tr>\n",
              "      <th>2022-11-14</th>\n",
              "      <td>40.000000</td>\n",
              "      <td>41.169998</td>\n",
              "      <td>39.639999</td>\n",
              "      <td>40.660000</td>\n",
              "      <td>40.660000</td>\n",
              "      <td>6076200</td>\n",
              "    </tr>\n",
              "    <tr>\n",
              "      <th>2022-11-16</th>\n",
              "      <td>40.400002</td>\n",
              "      <td>40.680000</td>\n",
              "      <td>38.320000</td>\n",
              "      <td>38.709999</td>\n",
              "      <td>38.709999</td>\n",
              "      <td>14823500</td>\n",
              "    </tr>\n",
              "    <tr>\n",
              "      <th>2022-11-17</th>\n",
              "      <td>38.310001</td>\n",
              "      <td>39.759998</td>\n",
              "      <td>37.520000</td>\n",
              "      <td>39.549999</td>\n",
              "      <td>39.549999</td>\n",
              "      <td>8238900</td>\n",
              "    </tr>\n",
              "    <tr>\n",
              "      <th>2022-11-18</th>\n",
              "      <td>39.560001</td>\n",
              "      <td>40.279999</td>\n",
              "      <td>39.099998</td>\n",
              "      <td>39.279999</td>\n",
              "      <td>39.279999</td>\n",
              "      <td>6672000</td>\n",
              "    </tr>\n",
              "  </tbody>\n",
              "</table>\n",
              "</div>\n",
              "      <button class=\"colab-df-convert\" onclick=\"convertToInteractive('df-32544023-4ec1-4de1-851e-a788ff2b52a3')\"\n",
              "              title=\"Convert this dataframe to an interactive table.\"\n",
              "              style=\"display:none;\">\n",
              "        \n",
              "  <svg xmlns=\"http://www.w3.org/2000/svg\" height=\"24px\"viewBox=\"0 0 24 24\"\n",
              "       width=\"24px\">\n",
              "    <path d=\"M0 0h24v24H0V0z\" fill=\"none\"/>\n",
              "    <path d=\"M18.56 5.44l.94 2.06.94-2.06 2.06-.94-2.06-.94-.94-2.06-.94 2.06-2.06.94zm-11 1L8.5 8.5l.94-2.06 2.06-.94-2.06-.94L8.5 2.5l-.94 2.06-2.06.94zm10 10l.94 2.06.94-2.06 2.06-.94-2.06-.94-.94-2.06-.94 2.06-2.06.94z\"/><path d=\"M17.41 7.96l-1.37-1.37c-.4-.4-.92-.59-1.43-.59-.52 0-1.04.2-1.43.59L10.3 9.45l-7.72 7.72c-.78.78-.78 2.05 0 2.83L4 21.41c.39.39.9.59 1.41.59.51 0 1.02-.2 1.41-.59l7.78-7.78 2.81-2.81c.8-.78.8-2.07 0-2.86zM5.41 20L4 18.59l7.72-7.72 1.47 1.35L5.41 20z\"/>\n",
              "  </svg>\n",
              "      </button>\n",
              "      \n",
              "  <style>\n",
              "    .colab-df-container {\n",
              "      display:flex;\n",
              "      flex-wrap:wrap;\n",
              "      gap: 12px;\n",
              "    }\n",
              "\n",
              "    .colab-df-convert {\n",
              "      background-color: #E8F0FE;\n",
              "      border: none;\n",
              "      border-radius: 50%;\n",
              "      cursor: pointer;\n",
              "      display: none;\n",
              "      fill: #1967D2;\n",
              "      height: 32px;\n",
              "      padding: 0 0 0 0;\n",
              "      width: 32px;\n",
              "    }\n",
              "\n",
              "    .colab-df-convert:hover {\n",
              "      background-color: #E2EBFA;\n",
              "      box-shadow: 0px 1px 2px rgba(60, 64, 67, 0.3), 0px 1px 3px 1px rgba(60, 64, 67, 0.15);\n",
              "      fill: #174EA6;\n",
              "    }\n",
              "\n",
              "    [theme=dark] .colab-df-convert {\n",
              "      background-color: #3B4455;\n",
              "      fill: #D2E3FC;\n",
              "    }\n",
              "\n",
              "    [theme=dark] .colab-df-convert:hover {\n",
              "      background-color: #434B5C;\n",
              "      box-shadow: 0px 1px 3px 1px rgba(0, 0, 0, 0.15);\n",
              "      filter: drop-shadow(0px 1px 2px rgba(0, 0, 0, 0.3));\n",
              "      fill: #FFFFFF;\n",
              "    }\n",
              "  </style>\n",
              "\n",
              "      <script>\n",
              "        const buttonEl =\n",
              "          document.querySelector('#df-32544023-4ec1-4de1-851e-a788ff2b52a3 button.colab-df-convert');\n",
              "        buttonEl.style.display =\n",
              "          google.colab.kernel.accessAllowed ? 'block' : 'none';\n",
              "\n",
              "        async function convertToInteractive(key) {\n",
              "          const element = document.querySelector('#df-32544023-4ec1-4de1-851e-a788ff2b52a3');\n",
              "          const dataTable =\n",
              "            await google.colab.kernel.invokeFunction('convertToInteractive',\n",
              "                                                     [key], {});\n",
              "          if (!dataTable) return;\n",
              "\n",
              "          const docLinkHtml = 'Like what you see? Visit the ' +\n",
              "            '<a target=\"_blank\" href=https://colab.research.google.com/notebooks/data_table.ipynb>data table notebook</a>'\n",
              "            + ' to learn more about interactive tables.';\n",
              "          element.innerHTML = '';\n",
              "          dataTable['output_type'] = 'display_data';\n",
              "          await google.colab.output.renderOutput(dataTable, element);\n",
              "          const docLink = document.createElement('div');\n",
              "          docLink.innerHTML = docLinkHtml;\n",
              "          element.appendChild(docLink);\n",
              "        }\n",
              "      </script>\n",
              "    </div>\n",
              "  </div>\n",
              "  "
            ]
          },
          "metadata": {},
          "execution_count": 4
        }
      ]
    },
    {
      "cell_type": "code",
      "source": [
        "acoes = ['PETR4.SA', 'WEGE3.SA', 'MGLU3.SA', 'LREN3.SA', 'VALE3.SA', 'BPAC11.SA']"
      ],
      "metadata": {
        "id": "RBt5RfuO61Fv"
      },
      "execution_count": null,
      "outputs": []
    },
    {
      "cell_type": "code",
      "source": [
        "inicio = '2019-01-01'"
      ],
      "metadata": {
        "id": "PJdAsQeb7_jv"
      },
      "execution_count": null,
      "outputs": []
    },
    {
      "cell_type": "code",
      "source": [
        "precos = pd.DataFrame()\n",
        "\n",
        "for i in acoes:\n",
        "  precos[i] = pdr.data.get_data_yahoo(i, start=inicio)['Adj Close']"
      ],
      "metadata": {
        "colab": {
          "base_uri": "https://localhost:8080/"
        },
        "id": "f0hmxMXH7NC4",
        "outputId": "946b977a-abb7-4192-f1b1-017e109c4788"
      },
      "execution_count": null,
      "outputs": [
        {
          "output_type": "stream",
          "name": "stdout",
          "text": [
            "[*********************100%***********************]  1 of 1 completed\n",
            "[*********************100%***********************]  1 of 1 completed\n",
            "[*********************100%***********************]  1 of 1 completed\n",
            "[*********************100%***********************]  1 of 1 completed\n",
            "[*********************100%***********************]  1 of 1 completed\n",
            "[*********************100%***********************]  1 of 1 completed\n"
          ]
        }
      ]
    },
    {
      "cell_type": "code",
      "source": [
        "precos.head()"
      ],
      "metadata": {
        "colab": {
          "base_uri": "https://localhost:8080/",
          "height": 238
        },
        "id": "lEJjdUok7jie",
        "outputId": "20f1ccc8-54d7-4592-f92b-0ce5201aa205"
      },
      "execution_count": null,
      "outputs": [
        {
          "output_type": "execute_result",
          "data": {
            "text/plain": [
              "             PETR4.SA  WEGE3.SA  MGLU3.SA   LREN3.SA   VALE3.SA  BPAC11.SA\n",
              "Date                                                                      \n",
              "2019-01-02  12.641031  8.541143  5.641579  36.608704  37.180233   5.700027\n",
              "2019-01-03  12.951015  8.735907  5.581217  36.146358  35.659252   5.935811\n",
              "2019-01-04  12.987792  8.835666  5.411354  34.759346  37.980743   6.146414\n",
              "2019-01-07  13.192696  8.697906  5.495374  33.960773  37.776978   6.272318\n",
              "2019-01-08  13.113890  8.626648  5.451089  35.053562  38.140850   6.155517"
            ],
            "text/html": [
              "\n",
              "  <div id=\"df-d28a50e4-7886-4bf5-8923-f20280cebdd8\">\n",
              "    <div class=\"colab-df-container\">\n",
              "      <div>\n",
              "<style scoped>\n",
              "    .dataframe tbody tr th:only-of-type {\n",
              "        vertical-align: middle;\n",
              "    }\n",
              "\n",
              "    .dataframe tbody tr th {\n",
              "        vertical-align: top;\n",
              "    }\n",
              "\n",
              "    .dataframe thead th {\n",
              "        text-align: right;\n",
              "    }\n",
              "</style>\n",
              "<table border=\"1\" class=\"dataframe\">\n",
              "  <thead>\n",
              "    <tr style=\"text-align: right;\">\n",
              "      <th></th>\n",
              "      <th>PETR4.SA</th>\n",
              "      <th>WEGE3.SA</th>\n",
              "      <th>MGLU3.SA</th>\n",
              "      <th>LREN3.SA</th>\n",
              "      <th>VALE3.SA</th>\n",
              "      <th>BPAC11.SA</th>\n",
              "    </tr>\n",
              "    <tr>\n",
              "      <th>Date</th>\n",
              "      <th></th>\n",
              "      <th></th>\n",
              "      <th></th>\n",
              "      <th></th>\n",
              "      <th></th>\n",
              "      <th></th>\n",
              "    </tr>\n",
              "  </thead>\n",
              "  <tbody>\n",
              "    <tr>\n",
              "      <th>2019-01-02</th>\n",
              "      <td>12.641031</td>\n",
              "      <td>8.541143</td>\n",
              "      <td>5.641579</td>\n",
              "      <td>36.608704</td>\n",
              "      <td>37.180233</td>\n",
              "      <td>5.700027</td>\n",
              "    </tr>\n",
              "    <tr>\n",
              "      <th>2019-01-03</th>\n",
              "      <td>12.951015</td>\n",
              "      <td>8.735907</td>\n",
              "      <td>5.581217</td>\n",
              "      <td>36.146358</td>\n",
              "      <td>35.659252</td>\n",
              "      <td>5.935811</td>\n",
              "    </tr>\n",
              "    <tr>\n",
              "      <th>2019-01-04</th>\n",
              "      <td>12.987792</td>\n",
              "      <td>8.835666</td>\n",
              "      <td>5.411354</td>\n",
              "      <td>34.759346</td>\n",
              "      <td>37.980743</td>\n",
              "      <td>6.146414</td>\n",
              "    </tr>\n",
              "    <tr>\n",
              "      <th>2019-01-07</th>\n",
              "      <td>13.192696</td>\n",
              "      <td>8.697906</td>\n",
              "      <td>5.495374</td>\n",
              "      <td>33.960773</td>\n",
              "      <td>37.776978</td>\n",
              "      <td>6.272318</td>\n",
              "    </tr>\n",
              "    <tr>\n",
              "      <th>2019-01-08</th>\n",
              "      <td>13.113890</td>\n",
              "      <td>8.626648</td>\n",
              "      <td>5.451089</td>\n",
              "      <td>35.053562</td>\n",
              "      <td>38.140850</td>\n",
              "      <td>6.155517</td>\n",
              "    </tr>\n",
              "  </tbody>\n",
              "</table>\n",
              "</div>\n",
              "      <button class=\"colab-df-convert\" onclick=\"convertToInteractive('df-d28a50e4-7886-4bf5-8923-f20280cebdd8')\"\n",
              "              title=\"Convert this dataframe to an interactive table.\"\n",
              "              style=\"display:none;\">\n",
              "        \n",
              "  <svg xmlns=\"http://www.w3.org/2000/svg\" height=\"24px\"viewBox=\"0 0 24 24\"\n",
              "       width=\"24px\">\n",
              "    <path d=\"M0 0h24v24H0V0z\" fill=\"none\"/>\n",
              "    <path d=\"M18.56 5.44l.94 2.06.94-2.06 2.06-.94-2.06-.94-.94-2.06-.94 2.06-2.06.94zm-11 1L8.5 8.5l.94-2.06 2.06-.94-2.06-.94L8.5 2.5l-.94 2.06-2.06.94zm10 10l.94 2.06.94-2.06 2.06-.94-2.06-.94-.94-2.06-.94 2.06-2.06.94z\"/><path d=\"M17.41 7.96l-1.37-1.37c-.4-.4-.92-.59-1.43-.59-.52 0-1.04.2-1.43.59L10.3 9.45l-7.72 7.72c-.78.78-.78 2.05 0 2.83L4 21.41c.39.39.9.59 1.41.59.51 0 1.02-.2 1.41-.59l7.78-7.78 2.81-2.81c.8-.78.8-2.07 0-2.86zM5.41 20L4 18.59l7.72-7.72 1.47 1.35L5.41 20z\"/>\n",
              "  </svg>\n",
              "      </button>\n",
              "      \n",
              "  <style>\n",
              "    .colab-df-container {\n",
              "      display:flex;\n",
              "      flex-wrap:wrap;\n",
              "      gap: 12px;\n",
              "    }\n",
              "\n",
              "    .colab-df-convert {\n",
              "      background-color: #E8F0FE;\n",
              "      border: none;\n",
              "      border-radius: 50%;\n",
              "      cursor: pointer;\n",
              "      display: none;\n",
              "      fill: #1967D2;\n",
              "      height: 32px;\n",
              "      padding: 0 0 0 0;\n",
              "      width: 32px;\n",
              "    }\n",
              "\n",
              "    .colab-df-convert:hover {\n",
              "      background-color: #E2EBFA;\n",
              "      box-shadow: 0px 1px 2px rgba(60, 64, 67, 0.3), 0px 1px 3px 1px rgba(60, 64, 67, 0.15);\n",
              "      fill: #174EA6;\n",
              "    }\n",
              "\n",
              "    [theme=dark] .colab-df-convert {\n",
              "      background-color: #3B4455;\n",
              "      fill: #D2E3FC;\n",
              "    }\n",
              "\n",
              "    [theme=dark] .colab-df-convert:hover {\n",
              "      background-color: #434B5C;\n",
              "      box-shadow: 0px 1px 3px 1px rgba(0, 0, 0, 0.15);\n",
              "      filter: drop-shadow(0px 1px 2px rgba(0, 0, 0, 0.3));\n",
              "      fill: #FFFFFF;\n",
              "    }\n",
              "  </style>\n",
              "\n",
              "      <script>\n",
              "        const buttonEl =\n",
              "          document.querySelector('#df-d28a50e4-7886-4bf5-8923-f20280cebdd8 button.colab-df-convert');\n",
              "        buttonEl.style.display =\n",
              "          google.colab.kernel.accessAllowed ? 'block' : 'none';\n",
              "\n",
              "        async function convertToInteractive(key) {\n",
              "          const element = document.querySelector('#df-d28a50e4-7886-4bf5-8923-f20280cebdd8');\n",
              "          const dataTable =\n",
              "            await google.colab.kernel.invokeFunction('convertToInteractive',\n",
              "                                                     [key], {});\n",
              "          if (!dataTable) return;\n",
              "\n",
              "          const docLinkHtml = 'Like what you see? Visit the ' +\n",
              "            '<a target=\"_blank\" href=https://colab.research.google.com/notebooks/data_table.ipynb>data table notebook</a>'\n",
              "            + ' to learn more about interactive tables.';\n",
              "          element.innerHTML = '';\n",
              "          dataTable['output_type'] = 'display_data';\n",
              "          await google.colab.output.renderOutput(dataTable, element);\n",
              "          const docLink = document.createElement('div');\n",
              "          docLink.innerHTML = docLinkHtml;\n",
              "          element.appendChild(docLink);\n",
              "        }\n",
              "      </script>\n",
              "    </div>\n",
              "  </div>\n",
              "  "
            ]
          },
          "metadata": {},
          "execution_count": 8
        }
      ]
    },
    {
      "cell_type": "code",
      "source": [
        "# IMPORTANDO DADOS FII, ETF E BDR\n",
        "\n",
        "yf.download('PETR4.SA', start = inicio)"
      ],
      "metadata": {
        "colab": {
          "base_uri": "https://localhost:8080/",
          "height": 472
        },
        "id": "pq_zE2U57kQ9",
        "outputId": "1bd784d6-c6b7-4d9a-9d06-0c5336e7f906"
      },
      "execution_count": null,
      "outputs": [
        {
          "output_type": "stream",
          "name": "stdout",
          "text": [
            "\r[*********************100%***********************]  1 of 1 completed\n"
          ]
        },
        {
          "output_type": "execute_result",
          "data": {
            "text/plain": [
              "                 Open       High        Low      Close  Adj Close     Volume\n",
              "Date                                                                        \n",
              "2019-01-02  22.549999  24.200001  22.280001  24.059999  12.641029  104534800\n",
              "2019-01-03  23.959999  24.820000  23.799999  24.650000  12.951016   95206400\n",
              "2019-01-04  24.850000  24.940001  24.469999  24.719999  12.987791   72119800\n",
              "2019-01-07  24.850000  25.920000  24.700001  25.110001  13.192698  121711900\n",
              "2019-01-08  25.400000  25.420000  24.770000  24.959999  13.113885   68761800\n",
              "...               ...        ...        ...        ...        ...        ...\n",
              "2022-11-11  25.799999  27.360001  25.700001  26.990000  26.990000  146365800\n",
              "2022-11-14  27.260000  28.180000  27.090000  27.700001  27.700001   66639500\n",
              "2022-11-16  27.809999  28.110001  26.930000  27.150000  27.150000   85549900\n",
              "2022-11-17  27.000000  27.299999  26.549999  27.160000  27.160000  101525800\n",
              "2022-11-18  27.400000  27.600000  26.219999  26.700001  26.700001  127683500\n",
              "\n",
              "[964 rows x 6 columns]"
            ],
            "text/html": [
              "\n",
              "  <div id=\"df-bbd8c158-0169-4b6e-8ed2-d6c5b5c1ef60\">\n",
              "    <div class=\"colab-df-container\">\n",
              "      <div>\n",
              "<style scoped>\n",
              "    .dataframe tbody tr th:only-of-type {\n",
              "        vertical-align: middle;\n",
              "    }\n",
              "\n",
              "    .dataframe tbody tr th {\n",
              "        vertical-align: top;\n",
              "    }\n",
              "\n",
              "    .dataframe thead th {\n",
              "        text-align: right;\n",
              "    }\n",
              "</style>\n",
              "<table border=\"1\" class=\"dataframe\">\n",
              "  <thead>\n",
              "    <tr style=\"text-align: right;\">\n",
              "      <th></th>\n",
              "      <th>Open</th>\n",
              "      <th>High</th>\n",
              "      <th>Low</th>\n",
              "      <th>Close</th>\n",
              "      <th>Adj Close</th>\n",
              "      <th>Volume</th>\n",
              "    </tr>\n",
              "    <tr>\n",
              "      <th>Date</th>\n",
              "      <th></th>\n",
              "      <th></th>\n",
              "      <th></th>\n",
              "      <th></th>\n",
              "      <th></th>\n",
              "      <th></th>\n",
              "    </tr>\n",
              "  </thead>\n",
              "  <tbody>\n",
              "    <tr>\n",
              "      <th>2019-01-02</th>\n",
              "      <td>22.549999</td>\n",
              "      <td>24.200001</td>\n",
              "      <td>22.280001</td>\n",
              "      <td>24.059999</td>\n",
              "      <td>12.641029</td>\n",
              "      <td>104534800</td>\n",
              "    </tr>\n",
              "    <tr>\n",
              "      <th>2019-01-03</th>\n",
              "      <td>23.959999</td>\n",
              "      <td>24.820000</td>\n",
              "      <td>23.799999</td>\n",
              "      <td>24.650000</td>\n",
              "      <td>12.951016</td>\n",
              "      <td>95206400</td>\n",
              "    </tr>\n",
              "    <tr>\n",
              "      <th>2019-01-04</th>\n",
              "      <td>24.850000</td>\n",
              "      <td>24.940001</td>\n",
              "      <td>24.469999</td>\n",
              "      <td>24.719999</td>\n",
              "      <td>12.987791</td>\n",
              "      <td>72119800</td>\n",
              "    </tr>\n",
              "    <tr>\n",
              "      <th>2019-01-07</th>\n",
              "      <td>24.850000</td>\n",
              "      <td>25.920000</td>\n",
              "      <td>24.700001</td>\n",
              "      <td>25.110001</td>\n",
              "      <td>13.192698</td>\n",
              "      <td>121711900</td>\n",
              "    </tr>\n",
              "    <tr>\n",
              "      <th>2019-01-08</th>\n",
              "      <td>25.400000</td>\n",
              "      <td>25.420000</td>\n",
              "      <td>24.770000</td>\n",
              "      <td>24.959999</td>\n",
              "      <td>13.113885</td>\n",
              "      <td>68761800</td>\n",
              "    </tr>\n",
              "    <tr>\n",
              "      <th>...</th>\n",
              "      <td>...</td>\n",
              "      <td>...</td>\n",
              "      <td>...</td>\n",
              "      <td>...</td>\n",
              "      <td>...</td>\n",
              "      <td>...</td>\n",
              "    </tr>\n",
              "    <tr>\n",
              "      <th>2022-11-11</th>\n",
              "      <td>25.799999</td>\n",
              "      <td>27.360001</td>\n",
              "      <td>25.700001</td>\n",
              "      <td>26.990000</td>\n",
              "      <td>26.990000</td>\n",
              "      <td>146365800</td>\n",
              "    </tr>\n",
              "    <tr>\n",
              "      <th>2022-11-14</th>\n",
              "      <td>27.260000</td>\n",
              "      <td>28.180000</td>\n",
              "      <td>27.090000</td>\n",
              "      <td>27.700001</td>\n",
              "      <td>27.700001</td>\n",
              "      <td>66639500</td>\n",
              "    </tr>\n",
              "    <tr>\n",
              "      <th>2022-11-16</th>\n",
              "      <td>27.809999</td>\n",
              "      <td>28.110001</td>\n",
              "      <td>26.930000</td>\n",
              "      <td>27.150000</td>\n",
              "      <td>27.150000</td>\n",
              "      <td>85549900</td>\n",
              "    </tr>\n",
              "    <tr>\n",
              "      <th>2022-11-17</th>\n",
              "      <td>27.000000</td>\n",
              "      <td>27.299999</td>\n",
              "      <td>26.549999</td>\n",
              "      <td>27.160000</td>\n",
              "      <td>27.160000</td>\n",
              "      <td>101525800</td>\n",
              "    </tr>\n",
              "    <tr>\n",
              "      <th>2022-11-18</th>\n",
              "      <td>27.400000</td>\n",
              "      <td>27.600000</td>\n",
              "      <td>26.219999</td>\n",
              "      <td>26.700001</td>\n",
              "      <td>26.700001</td>\n",
              "      <td>127683500</td>\n",
              "    </tr>\n",
              "  </tbody>\n",
              "</table>\n",
              "<p>964 rows × 6 columns</p>\n",
              "</div>\n",
              "      <button class=\"colab-df-convert\" onclick=\"convertToInteractive('df-bbd8c158-0169-4b6e-8ed2-d6c5b5c1ef60')\"\n",
              "              title=\"Convert this dataframe to an interactive table.\"\n",
              "              style=\"display:none;\">\n",
              "        \n",
              "  <svg xmlns=\"http://www.w3.org/2000/svg\" height=\"24px\"viewBox=\"0 0 24 24\"\n",
              "       width=\"24px\">\n",
              "    <path d=\"M0 0h24v24H0V0z\" fill=\"none\"/>\n",
              "    <path d=\"M18.56 5.44l.94 2.06.94-2.06 2.06-.94-2.06-.94-.94-2.06-.94 2.06-2.06.94zm-11 1L8.5 8.5l.94-2.06 2.06-.94-2.06-.94L8.5 2.5l-.94 2.06-2.06.94zm10 10l.94 2.06.94-2.06 2.06-.94-2.06-.94-.94-2.06-.94 2.06-2.06.94z\"/><path d=\"M17.41 7.96l-1.37-1.37c-.4-.4-.92-.59-1.43-.59-.52 0-1.04.2-1.43.59L10.3 9.45l-7.72 7.72c-.78.78-.78 2.05 0 2.83L4 21.41c.39.39.9.59 1.41.59.51 0 1.02-.2 1.41-.59l7.78-7.78 2.81-2.81c.8-.78.8-2.07 0-2.86zM5.41 20L4 18.59l7.72-7.72 1.47 1.35L5.41 20z\"/>\n",
              "  </svg>\n",
              "      </button>\n",
              "      \n",
              "  <style>\n",
              "    .colab-df-container {\n",
              "      display:flex;\n",
              "      flex-wrap:wrap;\n",
              "      gap: 12px;\n",
              "    }\n",
              "\n",
              "    .colab-df-convert {\n",
              "      background-color: #E8F0FE;\n",
              "      border: none;\n",
              "      border-radius: 50%;\n",
              "      cursor: pointer;\n",
              "      display: none;\n",
              "      fill: #1967D2;\n",
              "      height: 32px;\n",
              "      padding: 0 0 0 0;\n",
              "      width: 32px;\n",
              "    }\n",
              "\n",
              "    .colab-df-convert:hover {\n",
              "      background-color: #E2EBFA;\n",
              "      box-shadow: 0px 1px 2px rgba(60, 64, 67, 0.3), 0px 1px 3px 1px rgba(60, 64, 67, 0.15);\n",
              "      fill: #174EA6;\n",
              "    }\n",
              "\n",
              "    [theme=dark] .colab-df-convert {\n",
              "      background-color: #3B4455;\n",
              "      fill: #D2E3FC;\n",
              "    }\n",
              "\n",
              "    [theme=dark] .colab-df-convert:hover {\n",
              "      background-color: #434B5C;\n",
              "      box-shadow: 0px 1px 3px 1px rgba(0, 0, 0, 0.15);\n",
              "      filter: drop-shadow(0px 1px 2px rgba(0, 0, 0, 0.3));\n",
              "      fill: #FFFFFF;\n",
              "    }\n",
              "  </style>\n",
              "\n",
              "      <script>\n",
              "        const buttonEl =\n",
              "          document.querySelector('#df-bbd8c158-0169-4b6e-8ed2-d6c5b5c1ef60 button.colab-df-convert');\n",
              "        buttonEl.style.display =\n",
              "          google.colab.kernel.accessAllowed ? 'block' : 'none';\n",
              "\n",
              "        async function convertToInteractive(key) {\n",
              "          const element = document.querySelector('#df-bbd8c158-0169-4b6e-8ed2-d6c5b5c1ef60');\n",
              "          const dataTable =\n",
              "            await google.colab.kernel.invokeFunction('convertToInteractive',\n",
              "                                                     [key], {});\n",
              "          if (!dataTable) return;\n",
              "\n",
              "          const docLinkHtml = 'Like what you see? Visit the ' +\n",
              "            '<a target=\"_blank\" href=https://colab.research.google.com/notebooks/data_table.ipynb>data table notebook</a>'\n",
              "            + ' to learn more about interactive tables.';\n",
              "          element.innerHTML = '';\n",
              "          dataTable['output_type'] = 'display_data';\n",
              "          await google.colab.output.renderOutput(dataTable, element);\n",
              "          const docLink = document.createElement('div');\n",
              "          docLink.innerHTML = docLinkHtml;\n",
              "          element.appendChild(docLink);\n",
              "        }\n",
              "      </script>\n",
              "    </div>\n",
              "  </div>\n",
              "  "
            ]
          },
          "metadata": {},
          "execution_count": 9
        }
      ]
    },
    {
      "cell_type": "code",
      "source": [
        "#ativos = ['KNCR11.SA', 'VRTA11.SA', 'HCTR11.SA', 'HGLG11.SA', 'SMAL11.SA', 'IVVB11.SA', 'AAPL34.SA']\n",
        "ativos = ['KNCR11.SA', 'VRTA11.SA', 'HGLG11.SA', 'SMAL11.SA', 'IVVB11.SA', 'AAPL34.SA']"
      ],
      "metadata": {
        "id": "XBb1kViL8Fst"
      },
      "execution_count": null,
      "outputs": []
    },
    {
      "cell_type": "code",
      "source": [
        "p_ativos = pd.DataFrame()\n",
        "\n",
        "for i in ativos:\n",
        "  p_ativos[i] = yf.download(i, start=inicio)['Adj Close']"
      ],
      "metadata": {
        "colab": {
          "base_uri": "https://localhost:8080/"
        },
        "id": "WKloAzz28bvE",
        "outputId": "d28f8aed-c880-49cf-f56b-3e2627f39970"
      },
      "execution_count": null,
      "outputs": [
        {
          "output_type": "stream",
          "name": "stdout",
          "text": [
            "[*********************100%***********************]  1 of 1 completed\n",
            "[*********************100%***********************]  1 of 1 completed\n",
            "[*********************100%***********************]  1 of 1 completed\n",
            "[*********************100%***********************]  1 of 1 completed\n",
            "[*********************100%***********************]  1 of 1 completed\n",
            "[*********************100%***********************]  1 of 1 completed\n"
          ]
        }
      ]
    },
    {
      "cell_type": "code",
      "source": [
        "p_ativos.head()"
      ],
      "metadata": {
        "colab": {
          "base_uri": "https://localhost:8080/",
          "height": 238
        },
        "id": "sZAuMcs_8rqp",
        "outputId": "a1d31630-2d46-4d28-a2c8-042e96d61bf7"
      },
      "execution_count": null,
      "outputs": [
        {
          "output_type": "execute_result",
          "data": {
            "text/plain": [
              "            KNCR11.SA   VRTA11.SA  HCTR11.SA   HGLG11.SA  SMAL11.SA  \\\n",
              "Date                                                                  \n",
              "2019-01-02  96.494766  107.947678        NaN  131.841293  89.000000   \n",
              "2019-01-03  96.485580  109.785118        NaN  131.888092  89.000000   \n",
              "2019-01-04  96.347946  109.812820        NaN  131.233093  90.500000   \n",
              "2019-01-07  96.522293  110.856194        NaN  132.402725  88.199997   \n",
              "2019-01-08  96.806747  111.631805        NaN  132.870560  88.830002   \n",
              "\n",
              "            IVVB11.SA  AAPL34.SA  \n",
              "Date                              \n",
              "2019-01-02      74.25   7.286291  \n",
              "2019-01-03      74.25   6.489033  \n",
              "2019-01-04      74.25   6.592762  \n",
              "2019-01-07      74.25   6.579493  \n",
              "2019-01-08      74.25   6.777301  "
            ],
            "text/html": [
              "\n",
              "  <div id=\"df-001513c8-1330-4855-b663-be61332c9faa\">\n",
              "    <div class=\"colab-df-container\">\n",
              "      <div>\n",
              "<style scoped>\n",
              "    .dataframe tbody tr th:only-of-type {\n",
              "        vertical-align: middle;\n",
              "    }\n",
              "\n",
              "    .dataframe tbody tr th {\n",
              "        vertical-align: top;\n",
              "    }\n",
              "\n",
              "    .dataframe thead th {\n",
              "        text-align: right;\n",
              "    }\n",
              "</style>\n",
              "<table border=\"1\" class=\"dataframe\">\n",
              "  <thead>\n",
              "    <tr style=\"text-align: right;\">\n",
              "      <th></th>\n",
              "      <th>KNCR11.SA</th>\n",
              "      <th>VRTA11.SA</th>\n",
              "      <th>HCTR11.SA</th>\n",
              "      <th>HGLG11.SA</th>\n",
              "      <th>SMAL11.SA</th>\n",
              "      <th>IVVB11.SA</th>\n",
              "      <th>AAPL34.SA</th>\n",
              "    </tr>\n",
              "    <tr>\n",
              "      <th>Date</th>\n",
              "      <th></th>\n",
              "      <th></th>\n",
              "      <th></th>\n",
              "      <th></th>\n",
              "      <th></th>\n",
              "      <th></th>\n",
              "      <th></th>\n",
              "    </tr>\n",
              "  </thead>\n",
              "  <tbody>\n",
              "    <tr>\n",
              "      <th>2019-01-02</th>\n",
              "      <td>96.494766</td>\n",
              "      <td>107.947678</td>\n",
              "      <td>NaN</td>\n",
              "      <td>131.841293</td>\n",
              "      <td>89.000000</td>\n",
              "      <td>74.25</td>\n",
              "      <td>7.286291</td>\n",
              "    </tr>\n",
              "    <tr>\n",
              "      <th>2019-01-03</th>\n",
              "      <td>96.485580</td>\n",
              "      <td>109.785118</td>\n",
              "      <td>NaN</td>\n",
              "      <td>131.888092</td>\n",
              "      <td>89.000000</td>\n",
              "      <td>74.25</td>\n",
              "      <td>6.489033</td>\n",
              "    </tr>\n",
              "    <tr>\n",
              "      <th>2019-01-04</th>\n",
              "      <td>96.347946</td>\n",
              "      <td>109.812820</td>\n",
              "      <td>NaN</td>\n",
              "      <td>131.233093</td>\n",
              "      <td>90.500000</td>\n",
              "      <td>74.25</td>\n",
              "      <td>6.592762</td>\n",
              "    </tr>\n",
              "    <tr>\n",
              "      <th>2019-01-07</th>\n",
              "      <td>96.522293</td>\n",
              "      <td>110.856194</td>\n",
              "      <td>NaN</td>\n",
              "      <td>132.402725</td>\n",
              "      <td>88.199997</td>\n",
              "      <td>74.25</td>\n",
              "      <td>6.579493</td>\n",
              "    </tr>\n",
              "    <tr>\n",
              "      <th>2019-01-08</th>\n",
              "      <td>96.806747</td>\n",
              "      <td>111.631805</td>\n",
              "      <td>NaN</td>\n",
              "      <td>132.870560</td>\n",
              "      <td>88.830002</td>\n",
              "      <td>74.25</td>\n",
              "      <td>6.777301</td>\n",
              "    </tr>\n",
              "  </tbody>\n",
              "</table>\n",
              "</div>\n",
              "      <button class=\"colab-df-convert\" onclick=\"convertToInteractive('df-001513c8-1330-4855-b663-be61332c9faa')\"\n",
              "              title=\"Convert this dataframe to an interactive table.\"\n",
              "              style=\"display:none;\">\n",
              "        \n",
              "  <svg xmlns=\"http://www.w3.org/2000/svg\" height=\"24px\"viewBox=\"0 0 24 24\"\n",
              "       width=\"24px\">\n",
              "    <path d=\"M0 0h24v24H0V0z\" fill=\"none\"/>\n",
              "    <path d=\"M18.56 5.44l.94 2.06.94-2.06 2.06-.94-2.06-.94-.94-2.06-.94 2.06-2.06.94zm-11 1L8.5 8.5l.94-2.06 2.06-.94-2.06-.94L8.5 2.5l-.94 2.06-2.06.94zm10 10l.94 2.06.94-2.06 2.06-.94-2.06-.94-.94-2.06-.94 2.06-2.06.94z\"/><path d=\"M17.41 7.96l-1.37-1.37c-.4-.4-.92-.59-1.43-.59-.52 0-1.04.2-1.43.59L10.3 9.45l-7.72 7.72c-.78.78-.78 2.05 0 2.83L4 21.41c.39.39.9.59 1.41.59.51 0 1.02-.2 1.41-.59l7.78-7.78 2.81-2.81c.8-.78.8-2.07 0-2.86zM5.41 20L4 18.59l7.72-7.72 1.47 1.35L5.41 20z\"/>\n",
              "  </svg>\n",
              "      </button>\n",
              "      \n",
              "  <style>\n",
              "    .colab-df-container {\n",
              "      display:flex;\n",
              "      flex-wrap:wrap;\n",
              "      gap: 12px;\n",
              "    }\n",
              "\n",
              "    .colab-df-convert {\n",
              "      background-color: #E8F0FE;\n",
              "      border: none;\n",
              "      border-radius: 50%;\n",
              "      cursor: pointer;\n",
              "      display: none;\n",
              "      fill: #1967D2;\n",
              "      height: 32px;\n",
              "      padding: 0 0 0 0;\n",
              "      width: 32px;\n",
              "    }\n",
              "\n",
              "    .colab-df-convert:hover {\n",
              "      background-color: #E2EBFA;\n",
              "      box-shadow: 0px 1px 2px rgba(60, 64, 67, 0.3), 0px 1px 3px 1px rgba(60, 64, 67, 0.15);\n",
              "      fill: #174EA6;\n",
              "    }\n",
              "\n",
              "    [theme=dark] .colab-df-convert {\n",
              "      background-color: #3B4455;\n",
              "      fill: #D2E3FC;\n",
              "    }\n",
              "\n",
              "    [theme=dark] .colab-df-convert:hover {\n",
              "      background-color: #434B5C;\n",
              "      box-shadow: 0px 1px 3px 1px rgba(0, 0, 0, 0.15);\n",
              "      filter: drop-shadow(0px 1px 2px rgba(0, 0, 0, 0.3));\n",
              "      fill: #FFFFFF;\n",
              "    }\n",
              "  </style>\n",
              "\n",
              "      <script>\n",
              "        const buttonEl =\n",
              "          document.querySelector('#df-001513c8-1330-4855-b663-be61332c9faa button.colab-df-convert');\n",
              "        buttonEl.style.display =\n",
              "          google.colab.kernel.accessAllowed ? 'block' : 'none';\n",
              "\n",
              "        async function convertToInteractive(key) {\n",
              "          const element = document.querySelector('#df-001513c8-1330-4855-b663-be61332c9faa');\n",
              "          const dataTable =\n",
              "            await google.colab.kernel.invokeFunction('convertToInteractive',\n",
              "                                                     [key], {});\n",
              "          if (!dataTable) return;\n",
              "\n",
              "          const docLinkHtml = 'Like what you see? Visit the ' +\n",
              "            '<a target=\"_blank\" href=https://colab.research.google.com/notebooks/data_table.ipynb>data table notebook</a>'\n",
              "            + ' to learn more about interactive tables.';\n",
              "          element.innerHTML = '';\n",
              "          dataTable['output_type'] = 'display_data';\n",
              "          await google.colab.output.renderOutput(dataTable, element);\n",
              "          const docLink = document.createElement('div');\n",
              "          docLink.innerHTML = docLinkHtml;\n",
              "          element.appendChild(docLink);\n",
              "        }\n",
              "      </script>\n",
              "    </div>\n",
              "  </div>\n",
              "  "
            ]
          },
          "metadata": {},
          "execution_count": 12
        }
      ]
    },
    {
      "cell_type": "code",
      "source": [
        "!pip install git+https://github.com/alvarobartt/investpy@403-patch\n",
        "\n",
        "import investpy as ipy"
      ],
      "metadata": {
        "id": "r2Kn7E-LpkeP",
        "outputId": "c8c7bdeb-2304-4c39-8bec-43cc72fb060a",
        "colab": {
          "base_uri": "https://localhost:8080/"
        }
      },
      "execution_count": null,
      "outputs": [
        {
          "output_type": "stream",
          "name": "stdout",
          "text": [
            "Looking in indexes: https://pypi.org/simple, https://us-python.pkg.dev/colab-wheels/public/simple/\n",
            "Collecting git+https://github.com/alvarobartt/investpy@403-patch\n",
            "  Cloning https://github.com/alvarobartt/investpy (to revision 403-patch) to /tmp/pip-req-build-84wivuq6\n",
            "  Running command git clone -q https://github.com/alvarobartt/investpy /tmp/pip-req-build-84wivuq6\n",
            "  Running command git checkout -b 403-patch --track origin/403-patch\n",
            "  Switched to a new branch '403-patch'\n",
            "  Branch '403-patch' set up to track remote branch '403-patch' from 'origin'.\n",
            "Requirement already satisfied: Unidecode>=1.1.1 in /usr/local/lib/python3.7/dist-packages (from investpy==1.1.0) (1.3.6)\n",
            "Requirement already satisfied: setuptools>=41.2.0 in /usr/local/lib/python3.7/dist-packages (from investpy==1.1.0) (57.4.0)\n",
            "Requirement already satisfied: numpy>=1.17.2 in /usr/local/lib/python3.7/dist-packages (from investpy==1.1.0) (1.21.6)\n",
            "Requirement already satisfied: pandas>=0.25.1 in /usr/local/lib/python3.7/dist-packages (from investpy==1.1.0) (1.3.5)\n",
            "Requirement already satisfied: lxml>=4.4.1 in /usr/local/lib/python3.7/dist-packages (from investpy==1.1.0) (4.9.1)\n",
            "Requirement already satisfied: requests>=2.22.0 in /usr/local/lib/python3.7/dist-packages (from investpy==1.1.0) (2.28.1)\n",
            "Requirement already satisfied: pytz>=2019.3 in /usr/local/lib/python3.7/dist-packages (from investpy==1.1.0) (2022.6)\n",
            "Requirement already satisfied: python-dateutil>=2.7.3 in /usr/local/lib/python3.7/dist-packages (from pandas>=0.25.1->investpy==1.1.0) (2.8.2)\n",
            "Requirement already satisfied: six>=1.5 in /usr/local/lib/python3.7/dist-packages (from python-dateutil>=2.7.3->pandas>=0.25.1->investpy==1.1.0) (1.15.0)\n",
            "Requirement already satisfied: idna<4,>=2.5 in /usr/local/lib/python3.7/dist-packages (from requests>=2.22.0->investpy==1.1.0) (2.10)\n",
            "Requirement already satisfied: certifi>=2017.4.17 in /usr/local/lib/python3.7/dist-packages (from requests>=2.22.0->investpy==1.1.0) (2022.9.24)\n",
            "Requirement already satisfied: urllib3<1.27,>=1.21.1 in /usr/local/lib/python3.7/dist-packages (from requests>=2.22.0->investpy==1.1.0) (1.24.3)\n",
            "Requirement already satisfied: charset-normalizer<3,>=2 in /usr/local/lib/python3.7/dist-packages (from requests>=2.22.0->investpy==1.1.0) (2.1.1)\n",
            "Building wheels for collected packages: investpy\n",
            "  Building wheel for investpy (setup.py) ... \u001b[?25l\u001b[?25hdone\n",
            "  Created wheel for investpy: filename=investpy-1.1.0-py3-none-any.whl size=4486990 sha256=2f140a6ac6f165917860733c04c89f8d460df78287039986b206db718b09887c\n",
            "  Stored in directory: /tmp/pip-ephem-wheel-cache-07hcdg7u/wheels/19/da/23/b6e6856f4afd54dac21b32f1b7f6d0ead16e134984f409ccaf\n",
            "Successfully built investpy\n",
            "Installing collected packages: investpy\n",
            "  Attempting uninstall: investpy\n",
            "    Found existing installation: investpy 1.0.8\n",
            "    Uninstalling investpy-1.0.8:\n",
            "      Successfully uninstalled investpy-1.0.8\n",
            "Successfully installed investpy-1.1.0\n"
          ]
        }
      ]
    },
    {
      "cell_type": "code",
      "source": [
        "# IMPORTANDO DADOS ÍNDICES, COMMODITIES E CRYPTO\n",
        "\n",
        "resultados = ipy.search_quotes(text='bvsp', products=['indices'], countries = ['brazil'], n_results=10)"
      ],
      "metadata": {
        "id": "tQsKZ5s48zOF",
        "colab": {
          "base_uri": "https://localhost:8080/",
          "height": 321
        },
        "outputId": "2809098f-df8a-43db-f684-e3c51b65351a"
      },
      "execution_count": null,
      "outputs": [
        {
          "output_type": "error",
          "ename": "ConnectionError",
          "evalue": "ignored",
          "traceback": [
            "\u001b[0;31m---------------------------------------------------------------------------\u001b[0m",
            "\u001b[0;31mConnectionError\u001b[0m                           Traceback (most recent call last)",
            "\u001b[0;32m<ipython-input-14-8b227024e923>\u001b[0m in \u001b[0;36m<module>\u001b[0;34m\u001b[0m\n\u001b[1;32m      1\u001b[0m \u001b[0;31m# IMPORTANDO DADOS ÍNDICES, COMMODITIES E CRYPTO\u001b[0m\u001b[0;34m\u001b[0m\u001b[0;34m\u001b[0m\u001b[0;34m\u001b[0m\u001b[0m\n\u001b[1;32m      2\u001b[0m \u001b[0;34m\u001b[0m\u001b[0m\n\u001b[0;32m----> 3\u001b[0;31m \u001b[0mresultados\u001b[0m \u001b[0;34m=\u001b[0m \u001b[0mipy\u001b[0m\u001b[0;34m.\u001b[0m\u001b[0msearch_quotes\u001b[0m\u001b[0;34m(\u001b[0m\u001b[0mtext\u001b[0m\u001b[0;34m=\u001b[0m\u001b[0;34m'bvsp'\u001b[0m\u001b[0;34m,\u001b[0m \u001b[0mproducts\u001b[0m\u001b[0;34m=\u001b[0m\u001b[0;34m[\u001b[0m\u001b[0;34m'indices'\u001b[0m\u001b[0;34m]\u001b[0m\u001b[0;34m,\u001b[0m \u001b[0mcountries\u001b[0m \u001b[0;34m=\u001b[0m \u001b[0;34m[\u001b[0m\u001b[0;34m'brazil'\u001b[0m\u001b[0;34m]\u001b[0m\u001b[0;34m,\u001b[0m \u001b[0mn_results\u001b[0m\u001b[0;34m=\u001b[0m\u001b[0;36m10\u001b[0m\u001b[0;34m)\u001b[0m\u001b[0;34m\u001b[0m\u001b[0;34m\u001b[0m\u001b[0m\n\u001b[0m",
            "\u001b[0;32m/usr/local/lib/python3.7/dist-packages/investpy/search.py\u001b[0m in \u001b[0;36msearch_quotes\u001b[0;34m(text, products, countries, n_results)\u001b[0m\n\u001b[1;32m    159\u001b[0m         \u001b[0;32mif\u001b[0m \u001b[0mreq\u001b[0m\u001b[0;34m.\u001b[0m\u001b[0mstatus_code\u001b[0m \u001b[0;34m!=\u001b[0m \u001b[0;36m200\u001b[0m\u001b[0;34m:\u001b[0m\u001b[0;34m\u001b[0m\u001b[0;34m\u001b[0m\u001b[0m\n\u001b[1;32m    160\u001b[0m             raise ConnectionError(\n\u001b[0;32m--> 161\u001b[0;31m                 \u001b[0;34mf\"ERR#0015: error {req.status_code}, try again later.\"\u001b[0m\u001b[0;34m\u001b[0m\u001b[0;34m\u001b[0m\u001b[0m\n\u001b[0m\u001b[1;32m    162\u001b[0m             )\n\u001b[1;32m    163\u001b[0m \u001b[0;34m\u001b[0m\u001b[0m\n",
            "\u001b[0;31mConnectionError\u001b[0m: ERR#0015: error 403, try again later."
          ]
        }
      ]
    },
    {
      "cell_type": "code",
      "source": [
        "for r in resultados[:1]:\n",
        "  print(r)"
      ],
      "metadata": {
        "id": "f3ZPqu-99U5X"
      },
      "execution_count": null,
      "outputs": []
    },
    {
      "cell_type": "code",
      "source": [
        "ibov = r.retrieve_historical_data(from_date='01/01/2019', to_date = '04/09/2021')\n",
        "ibov.head"
      ],
      "metadata": {
        "id": "dA7CNrqY-kFC"
      },
      "execution_count": null,
      "outputs": []
    },
    {
      "cell_type": "code",
      "source": [
        "ibov = pd.DataFrame(ibov.Close).rename(columns={'Close':'IBOV'})"
      ],
      "metadata": {
        "id": "L7wyVd1X_CTk"
      },
      "execution_count": null,
      "outputs": []
    },
    {
      "cell_type": "code",
      "source": [
        "ibov.head()"
      ],
      "metadata": {
        "id": "Frb-SVmZ_Pbi"
      },
      "execution_count": null,
      "outputs": []
    },
    {
      "cell_type": "code",
      "source": [
        "resultados = ipy.search_quotes(text='corn', products=['commodities'], countries = ['brazil'], n_results=10)\n",
        "\n",
        "for r in resultados[:1]:\n",
        "  print(r)"
      ],
      "metadata": {
        "id": "s9DIeQ4u_S54"
      },
      "execution_count": null,
      "outputs": []
    },
    {
      "cell_type": "code",
      "source": [
        "btc = ipy.get_crypto_historical_data(crypto='bitcoin', from_date='01/01/2019', to_date = '16/11/2022')\n",
        "btc.head()"
      ],
      "metadata": {
        "colab": {
          "base_uri": "https://localhost:8080/",
          "height": 304
        },
        "id": "5DO1dzxl_feW",
        "outputId": "9bea6c77-8551-41c1-e496-ee6300831b91"
      },
      "execution_count": null,
      "outputs": [
        {
          "output_type": "error",
          "ename": "ConnectionError",
          "evalue": "ignored",
          "traceback": [
            "\u001b[0;31m---------------------------------------------------------------------------\u001b[0m",
            "\u001b[0;31mConnectionError\u001b[0m                           Traceback (most recent call last)",
            "\u001b[0;32m<ipython-input-15-e586922c6719>\u001b[0m in \u001b[0;36m<module>\u001b[0;34m\u001b[0m\n\u001b[0;32m----> 1\u001b[0;31m \u001b[0mbtc\u001b[0m \u001b[0;34m=\u001b[0m \u001b[0mipy\u001b[0m\u001b[0;34m.\u001b[0m\u001b[0mget_crypto_historical_data\u001b[0m\u001b[0;34m(\u001b[0m\u001b[0mcrypto\u001b[0m\u001b[0;34m=\u001b[0m\u001b[0;34m'bitcoin'\u001b[0m\u001b[0;34m,\u001b[0m \u001b[0mfrom_date\u001b[0m\u001b[0;34m=\u001b[0m\u001b[0;34m'01/01/2019'\u001b[0m\u001b[0;34m,\u001b[0m \u001b[0mto_date\u001b[0m \u001b[0;34m=\u001b[0m \u001b[0;34m'16/11/2022'\u001b[0m\u001b[0;34m)\u001b[0m\u001b[0;34m\u001b[0m\u001b[0;34m\u001b[0m\u001b[0m\n\u001b[0m\u001b[1;32m      2\u001b[0m \u001b[0mbtc\u001b[0m\u001b[0;34m.\u001b[0m\u001b[0mhead\u001b[0m\u001b[0;34m(\u001b[0m\u001b[0;34m)\u001b[0m\u001b[0;34m\u001b[0m\u001b[0;34m\u001b[0m\u001b[0m\n",
            "\u001b[0;32m/usr/local/lib/python3.7/dist-packages/investpy/crypto.py\u001b[0m in \u001b[0;36mget_crypto_historical_data\u001b[0;34m(crypto, from_date, to_date, as_json, order, interval)\u001b[0m\n\u001b[1;32m    597\u001b[0m         \u001b[0;32mif\u001b[0m \u001b[0mreq\u001b[0m\u001b[0;34m.\u001b[0m\u001b[0mstatus_code\u001b[0m \u001b[0;34m!=\u001b[0m \u001b[0;36m200\u001b[0m\u001b[0;34m:\u001b[0m\u001b[0;34m\u001b[0m\u001b[0;34m\u001b[0m\u001b[0m\n\u001b[1;32m    598\u001b[0m             raise ConnectionError(\n\u001b[0;32m--> 599\u001b[0;31m                 \u001b[0;34m\"ERR#0015: error \"\u001b[0m \u001b[0;34m+\u001b[0m \u001b[0mstr\u001b[0m\u001b[0;34m(\u001b[0m\u001b[0mreq\u001b[0m\u001b[0;34m.\u001b[0m\u001b[0mstatus_code\u001b[0m\u001b[0;34m)\u001b[0m \u001b[0;34m+\u001b[0m \u001b[0;34m\", try again later.\"\u001b[0m\u001b[0;34m\u001b[0m\u001b[0;34m\u001b[0m\u001b[0m\n\u001b[0m\u001b[1;32m    600\u001b[0m             )\n\u001b[1;32m    601\u001b[0m \u001b[0;34m\u001b[0m\u001b[0m\n",
            "\u001b[0;31mConnectionError\u001b[0m: ERR#0015: error 403, try again later."
          ]
        }
      ]
    },
    {
      "cell_type": "code",
      "source": [
        "dolar = yf.download('USDBRL=X', start = inicio)\n",
        "dolar = pd.DataFrame(dolar.Close).rename(columns={'Close':'Dolar'})"
      ],
      "metadata": {
        "id": "v43qLRx8pR5j",
        "colab": {
          "base_uri": "https://localhost:8080/"
        },
        "outputId": "f051ab4a-1a71-4365-f650-2bf81c9ef1b3"
      },
      "execution_count": null,
      "outputs": [
        {
          "output_type": "stream",
          "name": "stdout",
          "text": [
            "\r[*********************100%***********************]  1 of 1 completed\n"
          ]
        }
      ]
    },
    {
      "cell_type": "code",
      "source": [
        "from functools import reduce"
      ],
      "metadata": {
        "id": "UwC9G_0M9YSl"
      },
      "execution_count": null,
      "outputs": []
    },
    {
      "cell_type": "code",
      "source": [
        "dfs = [precos, p_ativos, dolar]"
      ],
      "metadata": {
        "id": "dotLFLtD9ak0"
      },
      "execution_count": null,
      "outputs": []
    },
    {
      "cell_type": "code",
      "source": [
        "dff = reduce(lambda left,right: pd.merge(left,right, on = 'Date'), dfs)  # how = 'inner'"
      ],
      "metadata": {
        "id": "MU5nB8Mu9i48"
      },
      "execution_count": null,
      "outputs": []
    },
    {
      "cell_type": "code",
      "source": [
        "dff.head()"
      ],
      "metadata": {
        "colab": {
          "base_uri": "https://localhost:8080/",
          "height": 238
        },
        "id": "yH7VuM8A-280",
        "outputId": "c89152bf-de6f-4726-f2be-2b147a88e4f0"
      },
      "execution_count": null,
      "outputs": [
        {
          "output_type": "execute_result",
          "data": {
            "text/plain": [
              "             PETR4.SA  WEGE3.SA  MGLU3.SA   LREN3.SA   VALE3.SA  BPAC11.SA  \\\n",
              "Date                                                                         \n",
              "2019-01-02  12.641031  8.541143  5.641579  36.608704  37.180233   5.700027   \n",
              "2019-01-03  12.951015  8.735907  5.581217  36.146358  35.659252   5.935811   \n",
              "2019-01-04  12.987792  8.835666  5.411354  34.759346  37.980743   6.146414   \n",
              "2019-01-07  13.192696  8.697906  5.495374  33.960773  37.776978   6.272318   \n",
              "2019-01-08  13.113890  8.626648  5.451089  35.053562  38.140850   6.155517   \n",
              "\n",
              "            KNCR11.SA   VRTA11.SA   HGLG11.SA  SMAL11.SA  IVVB11.SA  \\\n",
              "Date                                                                  \n",
              "2019-01-02  96.494766  107.947678  131.841293  89.000000      74.25   \n",
              "2019-01-03  96.485588  109.785118  131.888077  89.000000      74.25   \n",
              "2019-01-04  96.347939  109.812813  131.233093  90.500000      74.25   \n",
              "2019-01-07  96.522285  110.856186  132.402725  88.199997      74.25   \n",
              "2019-01-08  96.806747  111.631805  132.870575  88.830002      74.25   \n",
              "\n",
              "            AAPL34.SA   Dolar  \n",
              "Date                           \n",
              "2019-01-02   7.286291  3.8799  \n",
              "2019-01-03   6.489033  3.7863  \n",
              "2019-01-04   6.592762  3.7551  \n",
              "2019-01-07   6.579494  3.6612  \n",
              "2019-01-08   6.777300  3.7341  "
            ],
            "text/html": [
              "\n",
              "  <div id=\"df-e928b41c-d11e-4d43-9971-ba73486d7bcc\">\n",
              "    <div class=\"colab-df-container\">\n",
              "      <div>\n",
              "<style scoped>\n",
              "    .dataframe tbody tr th:only-of-type {\n",
              "        vertical-align: middle;\n",
              "    }\n",
              "\n",
              "    .dataframe tbody tr th {\n",
              "        vertical-align: top;\n",
              "    }\n",
              "\n",
              "    .dataframe thead th {\n",
              "        text-align: right;\n",
              "    }\n",
              "</style>\n",
              "<table border=\"1\" class=\"dataframe\">\n",
              "  <thead>\n",
              "    <tr style=\"text-align: right;\">\n",
              "      <th></th>\n",
              "      <th>PETR4.SA</th>\n",
              "      <th>WEGE3.SA</th>\n",
              "      <th>MGLU3.SA</th>\n",
              "      <th>LREN3.SA</th>\n",
              "      <th>VALE3.SA</th>\n",
              "      <th>BPAC11.SA</th>\n",
              "      <th>KNCR11.SA</th>\n",
              "      <th>VRTA11.SA</th>\n",
              "      <th>HGLG11.SA</th>\n",
              "      <th>SMAL11.SA</th>\n",
              "      <th>IVVB11.SA</th>\n",
              "      <th>AAPL34.SA</th>\n",
              "      <th>Dolar</th>\n",
              "    </tr>\n",
              "    <tr>\n",
              "      <th>Date</th>\n",
              "      <th></th>\n",
              "      <th></th>\n",
              "      <th></th>\n",
              "      <th></th>\n",
              "      <th></th>\n",
              "      <th></th>\n",
              "      <th></th>\n",
              "      <th></th>\n",
              "      <th></th>\n",
              "      <th></th>\n",
              "      <th></th>\n",
              "      <th></th>\n",
              "      <th></th>\n",
              "    </tr>\n",
              "  </thead>\n",
              "  <tbody>\n",
              "    <tr>\n",
              "      <th>2019-01-02</th>\n",
              "      <td>12.641031</td>\n",
              "      <td>8.541143</td>\n",
              "      <td>5.641579</td>\n",
              "      <td>36.608704</td>\n",
              "      <td>37.180233</td>\n",
              "      <td>5.700027</td>\n",
              "      <td>96.494766</td>\n",
              "      <td>107.947678</td>\n",
              "      <td>131.841293</td>\n",
              "      <td>89.000000</td>\n",
              "      <td>74.25</td>\n",
              "      <td>7.286291</td>\n",
              "      <td>3.8799</td>\n",
              "    </tr>\n",
              "    <tr>\n",
              "      <th>2019-01-03</th>\n",
              "      <td>12.951015</td>\n",
              "      <td>8.735907</td>\n",
              "      <td>5.581217</td>\n",
              "      <td>36.146358</td>\n",
              "      <td>35.659252</td>\n",
              "      <td>5.935811</td>\n",
              "      <td>96.485588</td>\n",
              "      <td>109.785118</td>\n",
              "      <td>131.888077</td>\n",
              "      <td>89.000000</td>\n",
              "      <td>74.25</td>\n",
              "      <td>6.489033</td>\n",
              "      <td>3.7863</td>\n",
              "    </tr>\n",
              "    <tr>\n",
              "      <th>2019-01-04</th>\n",
              "      <td>12.987792</td>\n",
              "      <td>8.835666</td>\n",
              "      <td>5.411354</td>\n",
              "      <td>34.759346</td>\n",
              "      <td>37.980743</td>\n",
              "      <td>6.146414</td>\n",
              "      <td>96.347939</td>\n",
              "      <td>109.812813</td>\n",
              "      <td>131.233093</td>\n",
              "      <td>90.500000</td>\n",
              "      <td>74.25</td>\n",
              "      <td>6.592762</td>\n",
              "      <td>3.7551</td>\n",
              "    </tr>\n",
              "    <tr>\n",
              "      <th>2019-01-07</th>\n",
              "      <td>13.192696</td>\n",
              "      <td>8.697906</td>\n",
              "      <td>5.495374</td>\n",
              "      <td>33.960773</td>\n",
              "      <td>37.776978</td>\n",
              "      <td>6.272318</td>\n",
              "      <td>96.522285</td>\n",
              "      <td>110.856186</td>\n",
              "      <td>132.402725</td>\n",
              "      <td>88.199997</td>\n",
              "      <td>74.25</td>\n",
              "      <td>6.579494</td>\n",
              "      <td>3.6612</td>\n",
              "    </tr>\n",
              "    <tr>\n",
              "      <th>2019-01-08</th>\n",
              "      <td>13.113890</td>\n",
              "      <td>8.626648</td>\n",
              "      <td>5.451089</td>\n",
              "      <td>35.053562</td>\n",
              "      <td>38.140850</td>\n",
              "      <td>6.155517</td>\n",
              "      <td>96.806747</td>\n",
              "      <td>111.631805</td>\n",
              "      <td>132.870575</td>\n",
              "      <td>88.830002</td>\n",
              "      <td>74.25</td>\n",
              "      <td>6.777300</td>\n",
              "      <td>3.7341</td>\n",
              "    </tr>\n",
              "  </tbody>\n",
              "</table>\n",
              "</div>\n",
              "      <button class=\"colab-df-convert\" onclick=\"convertToInteractive('df-e928b41c-d11e-4d43-9971-ba73486d7bcc')\"\n",
              "              title=\"Convert this dataframe to an interactive table.\"\n",
              "              style=\"display:none;\">\n",
              "        \n",
              "  <svg xmlns=\"http://www.w3.org/2000/svg\" height=\"24px\"viewBox=\"0 0 24 24\"\n",
              "       width=\"24px\">\n",
              "    <path d=\"M0 0h24v24H0V0z\" fill=\"none\"/>\n",
              "    <path d=\"M18.56 5.44l.94 2.06.94-2.06 2.06-.94-2.06-.94-.94-2.06-.94 2.06-2.06.94zm-11 1L8.5 8.5l.94-2.06 2.06-.94-2.06-.94L8.5 2.5l-.94 2.06-2.06.94zm10 10l.94 2.06.94-2.06 2.06-.94-2.06-.94-.94-2.06-.94 2.06-2.06.94z\"/><path d=\"M17.41 7.96l-1.37-1.37c-.4-.4-.92-.59-1.43-.59-.52 0-1.04.2-1.43.59L10.3 9.45l-7.72 7.72c-.78.78-.78 2.05 0 2.83L4 21.41c.39.39.9.59 1.41.59.51 0 1.02-.2 1.41-.59l7.78-7.78 2.81-2.81c.8-.78.8-2.07 0-2.86zM5.41 20L4 18.59l7.72-7.72 1.47 1.35L5.41 20z\"/>\n",
              "  </svg>\n",
              "      </button>\n",
              "      \n",
              "  <style>\n",
              "    .colab-df-container {\n",
              "      display:flex;\n",
              "      flex-wrap:wrap;\n",
              "      gap: 12px;\n",
              "    }\n",
              "\n",
              "    .colab-df-convert {\n",
              "      background-color: #E8F0FE;\n",
              "      border: none;\n",
              "      border-radius: 50%;\n",
              "      cursor: pointer;\n",
              "      display: none;\n",
              "      fill: #1967D2;\n",
              "      height: 32px;\n",
              "      padding: 0 0 0 0;\n",
              "      width: 32px;\n",
              "    }\n",
              "\n",
              "    .colab-df-convert:hover {\n",
              "      background-color: #E2EBFA;\n",
              "      box-shadow: 0px 1px 2px rgba(60, 64, 67, 0.3), 0px 1px 3px 1px rgba(60, 64, 67, 0.15);\n",
              "      fill: #174EA6;\n",
              "    }\n",
              "\n",
              "    [theme=dark] .colab-df-convert {\n",
              "      background-color: #3B4455;\n",
              "      fill: #D2E3FC;\n",
              "    }\n",
              "\n",
              "    [theme=dark] .colab-df-convert:hover {\n",
              "      background-color: #434B5C;\n",
              "      box-shadow: 0px 1px 3px 1px rgba(0, 0, 0, 0.15);\n",
              "      filter: drop-shadow(0px 1px 2px rgba(0, 0, 0, 0.3));\n",
              "      fill: #FFFFFF;\n",
              "    }\n",
              "  </style>\n",
              "\n",
              "      <script>\n",
              "        const buttonEl =\n",
              "          document.querySelector('#df-e928b41c-d11e-4d43-9971-ba73486d7bcc button.colab-df-convert');\n",
              "        buttonEl.style.display =\n",
              "          google.colab.kernel.accessAllowed ? 'block' : 'none';\n",
              "\n",
              "        async function convertToInteractive(key) {\n",
              "          const element = document.querySelector('#df-e928b41c-d11e-4d43-9971-ba73486d7bcc');\n",
              "          const dataTable =\n",
              "            await google.colab.kernel.invokeFunction('convertToInteractive',\n",
              "                                                     [key], {});\n",
              "          if (!dataTable) return;\n",
              "\n",
              "          const docLinkHtml = 'Like what you see? Visit the ' +\n",
              "            '<a target=\"_blank\" href=https://colab.research.google.com/notebooks/data_table.ipynb>data table notebook</a>'\n",
              "            + ' to learn more about interactive tables.';\n",
              "          element.innerHTML = '';\n",
              "          dataTable['output_type'] = 'display_data';\n",
              "          await google.colab.output.renderOutput(dataTable, element);\n",
              "          const docLink = document.createElement('div');\n",
              "          docLink.innerHTML = docLinkHtml;\n",
              "          element.appendChild(docLink);\n",
              "        }\n",
              "      </script>\n",
              "    </div>\n",
              "  </div>\n",
              "  "
            ]
          },
          "metadata": {},
          "execution_count": 34
        }
      ]
    },
    {
      "cell_type": "code",
      "source": [
        "import seaborn as sns\n",
        "import matplotlib.pyplot as plt"
      ],
      "metadata": {
        "id": "WQ1Doi6L_BIz"
      },
      "execution_count": null,
      "outputs": []
    },
    {
      "cell_type": "code",
      "source": [
        "sns.heatmap(dff.corr())"
      ],
      "metadata": {
        "colab": {
          "base_uri": "https://localhost:8080/",
          "height": 334
        },
        "id": "W_-P0ZEy_cvr",
        "outputId": "81be235a-ce34-48df-bd50-cb8c429bd8ec"
      },
      "execution_count": null,
      "outputs": [
        {
          "output_type": "execute_result",
          "data": {
            "text/plain": [
              "<matplotlib.axes._subplots.AxesSubplot at 0x7f8a9b2db2d0>"
            ]
          },
          "metadata": {},
          "execution_count": 36
        },
        {
          "output_type": "display_data",
          "data": {
            "text/plain": [
              "<Figure size 432x288 with 2 Axes>"
            ],
            "image/png": "[encoded data removed]"
          },
          "metadata": {
            "needs_background": "light"
          }
        }
      ]
    },
    {
      "cell_type": "code",
      "source": [
        "plt.figure(figsize = (16,8))\n",
        "\n",
        "sns.heatmap(dff.corr(), vmin = -1, vmax = 1, annot = True, cmap = 'BrBG')"
      ],
      "metadata": {
        "colab": {
          "base_uri": "https://localhost:8080/",
          "height": 552
        },
        "id": "evMHRTmC_e8r",
        "outputId": "d64633d0-fe6c-4849-a07c-9ddfa3329133"
      },
      "execution_count": null,
      "outputs": [
        {
          "output_type": "execute_result",
          "data": {
            "text/plain": [
              "<matplotlib.axes._subplots.AxesSubplot at 0x7f8a9d9443d0>"
            ]
          },
          "metadata": {},
          "execution_count": 41
        },
        {
          "output_type": "display_data",
          "data": {
            "text/plain": [
              "<Figure size 1152x576 with 2 Axes>"
            ],
            "image/png": "[encoded data removed]"
          },
          "metadata": {
            "needs_background": "light"
          }
        }
      ]
    },
    {
      "cell_type": "code",
      "source": [],
      "metadata": {
        "id": "LH9enqd6ADti"
      },
      "execution_count": null,
      "outputs": []
    }
  ]
}